{
 "cells": [
  {
   "cell_type": "code",
   "execution_count": 1,
   "metadata": {},
   "outputs": [
    {
     "ename": "ModuleNotFoundError",
     "evalue": "No module named 'geopandas'",
     "output_type": "error",
     "traceback": [
      "\u001b[1;31m---------------------------------------------------------------------------\u001b[0m",
      "\u001b[1;31mModuleNotFoundError\u001b[0m                       Traceback (most recent call last)",
      "\u001b[1;32m<ipython-input-1-c5e3e76da959>\u001b[0m in \u001b[0;36m<module>\u001b[1;34m\u001b[0m\n\u001b[0;32m      1\u001b[0m \u001b[1;32mimport\u001b[0m \u001b[0mpandas\u001b[0m \u001b[1;32mas\u001b[0m \u001b[0mpd\u001b[0m\u001b[1;33m\u001b[0m\u001b[1;33m\u001b[0m\u001b[0m\n\u001b[1;32m----> 2\u001b[1;33m \u001b[1;32mimport\u001b[0m \u001b[0mgeopandas\u001b[0m \u001b[1;32mas\u001b[0m \u001b[0mgpd\u001b[0m\u001b[1;33m\u001b[0m\u001b[1;33m\u001b[0m\u001b[0m\n\u001b[0m\u001b[0;32m      3\u001b[0m \u001b[1;32mfrom\u001b[0m \u001b[0mutils\u001b[0m \u001b[1;32mimport\u001b[0m \u001b[0mload_df_to_database\u001b[0m\u001b[1;33m\u001b[0m\u001b[1;33m\u001b[0m\u001b[0m\n",
      "\u001b[1;31mModuleNotFoundError\u001b[0m: No module named 'geopandas'"
     ]
    }
   ],
   "source": [
    "import pandas as pd\n",
    "import geopandas as gpd\n",
    "from utils import load_df_to_database"
   ]
  },
  {
   "cell_type": "code",
   "execution_count": 2,
   "metadata": {},
   "outputs": [],
   "source": [
    "legs = 'Z:/wedekind/stuttgart-v1.0/04_stuttgart-v1.0_calibration/output/output-calib_03_08/calib_03_08.output_legs.csv.gz'"
   ]
  },
  {
   "cell_type": "code",
   "execution_count": 2,
   "metadata": {},
   "outputs": [],
   "source": [
    " # -- PARSING --\n",
    "    logging.info(\"Parse trips file...\")\n",
    "    try:\n",
    "        with gzip.open(legs) as f:\n",
    "            df_legs = pd.read_csv(f, sep=\";\")\n",
    "    except OSError as e:\n",
    "        raise Exception(e.strerror)\n",
    "\n",
    "    # -- BUILDING GEOMETRIES --\n",
    "    logging.info(\"Build trip geometries...\")\n",
    "    df_legs['geometry'] = df_legs.apply(\n",
    "        lambda x: LineString([(x['start_x'], x['start_y']), (x['end_x'], x['end_y'])]), axis=1)\n",
    "    gdf_legs = gpd.GeoDataFrame(df_legs.drop(columns=['geometry']), geometry=df_legs['geometry'])\n",
    "    gdf_legs = gdf_legs.set_crs(epsg=25832)"
   ]
  },
  {
   "cell_type": "code",
   "execution_count": 4,
   "metadata": {},
   "outputs": [],
   "source": [
    "# -- FURTHER DATA MANIPULATIONS --\n",
    "    logging.info(\"Further data manipulations...\")\n",
    "    gdf_trips['dep_time'] = gdf_trips['dep_time'].apply(convert_time)\n",
    "    gdf_trips['trav_time'] = gdf_trips['trav_time'].apply(convert_time)\n",
    "    gdf_trips['wait_time'] = gdf_trips['wait_time'].apply(convert_time)\n",
    "    gdf_trips['arr_time'] = gdf_trips['dep_time'] + gdf_trips['trav_time'] + gdf_trips['wait_time']\n",
    "    gdf_trips['trip_speed'] = gdf_trips.apply(lambda x:\n",
    "                                              calculate_speed(x['traveled_distance'], x['trav_time'] + x['wait_time']),\n",
    "                                              axis=1\n",
    "                                              )\n",
    "    gdf_trips['beeline_speed'] = gdf_trips.apply(lambda x:\n",
    "                                                 calculate_speed(x['euclidean_distance'],\n",
    "                                                                 x['trav_time'] + x['wait_time']),\n",
    "                                                 axis=1\n",
    "                                                 )"
   ]
  },
  {
   "cell_type": "code",
   "execution_count": 6,
   "metadata": {},
   "outputs": [],
   "source": [
    "db_parameter = {\n",
    "    'host': 'localhost',\n",
    "    'database': 'stuttgart_1pct_calibration',\n",
    "    'user': 'postgres',\n",
    "    'password': 'dW49t8@0DPA2',\n",
    "    'port': 5432\n",
    "}"
   ]
  },
  {
   "cell_type": "code",
   "execution_count": 7,
   "metadata": {},
   "outputs": [
    {
     "data": {
      "text/plain": [
       "\"with pg.connect(**db_parameter) as con:\\n    sql = f'''DROP TABLE IF EXISTS {table_schema}.{table_name} CASCADE;'''\\n    cursor = con.cursor()\\n    cursor.execute(sql)\\n    con.commit()\""
      ]
     },
     "execution_count": 7,
     "metadata": {},
     "output_type": "execute_result"
    }
   ],
   "source": [
    "with pg.connect(**db_parameter) as con:\n",
    "    sql = f'''DROP TABLE IF EXISTS {table_schema}.{table_name} CASCADE;'''\n",
    "    cursor = con.cursor()\n",
    "    cursor.execute(sql)\n",
    "    con.commit()"
   ]
  },
  {
   "cell_type": "code",
   "execution_count": 8,
   "metadata": {},
   "outputs": [
    {
     "name": "stderr",
     "output_type": "stream",
     "text": [
      "2020-11-20 14:08:33,951 - INFO: Drop table if exists...\n",
      "2020-11-20 14:08:33,987 - INFO: Import data to database...\n",
      "2020-11-20 14:08:33,987 - INFO: Checking meta data inputs\n",
      "2020-11-20 14:08:33,988 - INFO: Uploading to database\n",
      "2020-11-20 14:08:34,032 - INFO: Table metadata: \n",
      "        COMMENT ON TABLE general.test IS\n",
      "        '\n",
      "        ####################\n",
      "        # Meta information #\n",
      "        ####################\n",
      "            title: Test,\n",
      "            description: Test,\n",
      "            source_name: Test,\n",
      "            source_url: Test,\n",
      "            source_year: Test,\n",
      "            source_download_date: Test'\n",
      "        \n",
      "2020-11-20 14:08:34,033 - INFO: Writing metadata to table comments\n",
      "2020-11-20 14:08:34,063 - INFO: Table import successful!\n"
     ]
    }
   ],
   "source": [
    "drop_table_if_exists(db_parameter, table_name, table_schema)\n",
    "\n",
    "load_df_to_database(\n",
    "    df=df,\n",
    "    db_parameter=db_parameter,\n",
    "    schema=table_schema,\n",
    "    table_name=table_name,\n",
    "    meta_data=DATA_METADATA)"
   ]
  },
  {
   "cell_type": "code",
   "execution_count": null,
   "metadata": {},
   "outputs": [],
   "source": []
  }
 ],
 "metadata": {
  "kernelspec": {
   "display_name": "Python 3",
   "language": "python",
   "name": "python3"
  },
  "language_info": {
   "codemirror_mode": {
    "name": "ipython",
    "version": 3
   },
   "file_extension": ".py",
   "mimetype": "text/x-python",
   "name": "python",
   "nbconvert_exporter": "python",
   "pygments_lexer": "ipython3",
   "version": "3.7.6"
  }
 },
 "nbformat": 4,
 "nbformat_minor": 4
}
