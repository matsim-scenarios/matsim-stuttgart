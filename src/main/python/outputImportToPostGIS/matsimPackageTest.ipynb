{
 "cells": [
  {
   "cell_type": "code",
   "execution_count": 1,
   "metadata": {},
   "outputs": [],
   "source": [
    "import xml.etree.ElementTree as ET\n",
    "import pandas as pd"
   ]
  },
  {
   "cell_type": "code",
   "execution_count": 2,
   "metadata": {},
   "outputs": [],
   "source": [
    "XML_PATH = \"Z:/wedekind/stuttgart-v1.0/04_stuttgart-v1.0_calibration/output/output-calib_01_01/calib_01_01.output_config.xml\""
   ]
  },
  {
   "cell_type": "code",
   "execution_count": 3,
   "metadata": {},
   "outputs": [],
   "source": [
    "tree = ET.parse(XML_PATH)"
   ]
  },
  {
   "cell_type": "code",
   "execution_count": 4,
   "metadata": {},
   "outputs": [],
   "source": [
    "root = tree.getroot()"
   ]
  },
  {
   "cell_type": "code",
   "execution_count": 5,
   "metadata": {},
   "outputs": [],
   "source": [
    "df_modeParameters = list()\n",
    "\n",
    "for modeParameters in root.findall(\"./module[@name='planCalcScore']/parameterset[@type='scoringParameters']/parameterset[@type='modeParams']\"): \n",
    "    row = dict()\n",
    "    for node in modeParameters:\n",
    "        row[node.attrib.get(\"name\")] = node.attrib.get(\"value\")\n",
    "    df_modeParameters.append(row)"
   ]
  },
  {
   "cell_type": "code",
   "execution_count": 6,
   "metadata": {},
   "outputs": [],
   "source": [
    "df_modeParameters = pd.DataFrame(df_modeParameters)\n",
    "df_modeParameters = df_modeParameters[['mode','constant','dailyMonetaryConstant','dailyUtilityConstant','marginalUtilityOfDistance_util_m','marginalUtilityOfTraveling_util_hr','monetaryDistanceRate']]"
   ]
  },
  {
   "cell_type": "code",
   "execution_count": 7,
   "metadata": {},
   "outputs": [
    {
     "data": {
      "text/html": [
       "<div>\n",
       "<style scoped>\n",
       "    .dataframe tbody tr th:only-of-type {\n",
       "        vertical-align: middle;\n",
       "    }\n",
       "\n",
       "    .dataframe tbody tr th {\n",
       "        vertical-align: top;\n",
       "    }\n",
       "\n",
       "    .dataframe thead th {\n",
       "        text-align: right;\n",
       "    }\n",
       "</style>\n",
       "<table border=\"1\" class=\"dataframe\">\n",
       "  <thead>\n",
       "    <tr style=\"text-align: right;\">\n",
       "      <th></th>\n",
       "      <th>mode</th>\n",
       "      <th>constant</th>\n",
       "      <th>dailyMonetaryConstant</th>\n",
       "      <th>dailyUtilityConstant</th>\n",
       "      <th>marginalUtilityOfDistance_util_m</th>\n",
       "      <th>marginalUtilityOfTraveling_util_hr</th>\n",
       "      <th>monetaryDistanceRate</th>\n",
       "    </tr>\n",
       "  </thead>\n",
       "  <tbody>\n",
       "    <tr>\n",
       "      <th>0</th>\n",
       "      <td>car</td>\n",
       "      <td>-0.0</td>\n",
       "      <td>-5.3</td>\n",
       "      <td>0.0</td>\n",
       "      <td>0.0</td>\n",
       "      <td>0.0</td>\n",
       "      <td>-0.0</td>\n",
       "    </tr>\n",
       "    <tr>\n",
       "      <th>1</th>\n",
       "      <td>ride</td>\n",
       "      <td>-0.0</td>\n",
       "      <td>-0.0</td>\n",
       "      <td>0.0</td>\n",
       "      <td>0.0</td>\n",
       "      <td>-0.0</td>\n",
       "      <td>-0.0</td>\n",
       "    </tr>\n",
       "    <tr>\n",
       "      <th>2</th>\n",
       "      <td>pt</td>\n",
       "      <td>-0.0</td>\n",
       "      <td>-0.0</td>\n",
       "      <td>0.0</td>\n",
       "      <td>0.0</td>\n",
       "      <td>-0.0</td>\n",
       "      <td>0.0</td>\n",
       "    </tr>\n",
       "    <tr>\n",
       "      <th>3</th>\n",
       "      <td>bike</td>\n",
       "      <td>0.0</td>\n",
       "      <td>-0.5</td>\n",
       "      <td>0.0</td>\n",
       "      <td>0.0</td>\n",
       "      <td>-0.0</td>\n",
       "      <td>-0.0</td>\n",
       "    </tr>\n",
       "    <tr>\n",
       "      <th>4</th>\n",
       "      <td>walk</td>\n",
       "      <td>0.0</td>\n",
       "      <td>-0.0</td>\n",
       "      <td>0.0</td>\n",
       "      <td>0.0</td>\n",
       "      <td>-0.0</td>\n",
       "      <td>-0.0</td>\n",
       "    </tr>\n",
       "  </tbody>\n",
       "</table>\n",
       "</div>"
      ],
      "text/plain": [
       "   mode constant dailyMonetaryConstant dailyUtilityConstant  \\\n",
       "0   car     -0.0                  -5.3                  0.0   \n",
       "1  ride     -0.0                  -0.0                  0.0   \n",
       "2    pt     -0.0                  -0.0                  0.0   \n",
       "3  bike      0.0                  -0.5                  0.0   \n",
       "4  walk      0.0                  -0.0                  0.0   \n",
       "\n",
       "  marginalUtilityOfDistance_util_m marginalUtilityOfTraveling_util_hr  \\\n",
       "0                              0.0                                0.0   \n",
       "1                              0.0                               -0.0   \n",
       "2                              0.0                               -0.0   \n",
       "3                              0.0                               -0.0   \n",
       "4                              0.0                               -0.0   \n",
       "\n",
       "  monetaryDistanceRate  \n",
       "0                 -0.0  \n",
       "1                 -0.0  \n",
       "2                  0.0  \n",
       "3                 -0.0  \n",
       "4                 -0.0  "
      ]
     },
     "execution_count": 7,
     "metadata": {},
     "output_type": "execute_result"
    }
   ],
   "source": [
    "df_modeParameters"
   ]
  },
  {
   "cell_type": "code",
   "execution_count": 6,
   "metadata": {},
   "outputs": [],
   "source": [
    "test = pd.DataFrame(events)"
   ]
  },
  {
   "cell_type": "code",
   "execution_count": 4,
   "metadata": {},
   "outputs": [],
   "source": [
    "DATA_METADATA = {\n",
    "        'title': 'Test',\n",
    "        'description': 'Test',\n",
    "        'source_name': 'Test',\n",
    "        'source_url': 'Test',\n",
    "        'source_year': 'Test',\n",
    "        'source_download_date': 'Test',\n",
    "    }"
   ]
  },
  {
   "cell_type": "code",
   "execution_count": 5,
   "metadata": {},
   "outputs": [],
   "source": [
    "table_name = 'test'\n",
    "table_schema = 'general'"
   ]
  },
  {
   "cell_type": "code",
   "execution_count": 6,
   "metadata": {},
   "outputs": [],
   "source": [
    "db_parameter = {\n",
    "    'host': 'localhost',\n",
    "    'database': 'stuttgart_1pct_calibration',\n",
    "    'user': 'postgres',\n",
    "    'password': 'dW49t8@0DPA2',\n",
    "    'port': 5432\n",
    "}"
   ]
  },
  {
   "cell_type": "code",
   "execution_count": 7,
   "metadata": {},
   "outputs": [
    {
     "data": {
      "text/plain": [
       "\"with pg.connect(**db_parameter) as con:\\n    sql = f'''DROP TABLE IF EXISTS {table_schema}.{table_name} CASCADE;'''\\n    cursor = con.cursor()\\n    cursor.execute(sql)\\n    con.commit()\""
      ]
     },
     "execution_count": 7,
     "metadata": {},
     "output_type": "execute_result"
    }
   ],
   "source": [
    "\"\"\"with pg.connect(**db_parameter) as con:\n",
    "    sql = f'''DROP TABLE IF EXISTS {table_schema}.{table_name} CASCADE;'''\n",
    "    cursor = con.cursor()\n",
    "    cursor.execute(sql)\n",
    "    con.commit()\"\"\""
   ]
  },
  {
   "cell_type": "code",
   "execution_count": 8,
   "metadata": {},
   "outputs": [
    {
     "name": "stderr",
     "output_type": "stream",
     "text": [
      "2020-11-20 14:08:33,951 - INFO: Drop table if exists...\n",
      "2020-11-20 14:08:33,987 - INFO: Import data to database...\n",
      "2020-11-20 14:08:33,987 - INFO: Checking meta data inputs\n",
      "2020-11-20 14:08:33,988 - INFO: Uploading to database\n",
      "2020-11-20 14:08:34,032 - INFO: Table metadata: \n",
      "        COMMENT ON TABLE general.test IS\n",
      "        '\n",
      "        ####################\n",
      "        # Meta information #\n",
      "        ####################\n",
      "            title: Test,\n",
      "            description: Test,\n",
      "            source_name: Test,\n",
      "            source_url: Test,\n",
      "            source_year: Test,\n",
      "            source_download_date: Test'\n",
      "        \n",
      "2020-11-20 14:08:34,033 - INFO: Writing metadata to table comments\n",
      "2020-11-20 14:08:34,063 - INFO: Table import successful!\n"
     ]
    }
   ],
   "source": [
    "drop_table_if_exists(db_parameter, table_name, table_schema)\n",
    "\n",
    "load_df_to_database(\n",
    "    df=df,\n",
    "    db_parameter=db_parameter,\n",
    "    schema=table_schema,\n",
    "    table_name=table_name,\n",
    "    meta_data=DATA_METADATA)"
   ]
  },
  {
   "cell_type": "code",
   "execution_count": null,
   "metadata": {},
   "outputs": [],
   "source": []
  }
 ],
 "metadata": {
  "kernelspec": {
   "display_name": "Python 3",
   "language": "python",
   "name": "python3"
  },
  "language_info": {
   "codemirror_mode": {
    "name": "ipython",
    "version": 3
   },
   "file_extension": ".py",
   "mimetype": "text/x-python",
   "name": "python",
   "nbconvert_exporter": "python",
   "pygments_lexer": "ipython3",
   "version": "3.7.6"
  }
 },
 "nbformat": 4,
 "nbformat_minor": 4
}
