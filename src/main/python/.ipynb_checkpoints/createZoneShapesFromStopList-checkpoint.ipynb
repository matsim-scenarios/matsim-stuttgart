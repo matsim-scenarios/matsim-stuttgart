{
 "cells": [
  {
   "cell_type": "code",
   "execution_count": 1,
   "metadata": {},
   "outputs": [],
   "source": [
    "import pandas as pd\n",
    "import geopandas as gpd\n",
    "import numpy as np\n",
    "from fuzzywuzzy import fuzz\n",
    "import math\n",
    "from shapely.geometry import Point\n",
    "from geopy.distance import distance"
   ]
  },
  {
   "cell_type": "markdown",
   "metadata": {},
   "source": [
    "## Step 1: Read-In Data"
   ]
  },
  {
   "cell_type": "code",
   "execution_count": 2,
   "metadata": {},
   "outputs": [],
   "source": [
    "fileString_vz = \"C:/Users/david/OneDrive/02_Uni/02_Master/05_Masterarbeit/03_MATSim/01_prep/00_QGIS/vvs_haltestellenverzeichnis_v2.csv\"\n",
    "fileString_gtfs = \"C:/Users/david/OneDrive/02_Uni/02_Master/05_Masterarbeit/03_MATSim/01_prep/00_QGIS/vvs_stops.csv\"\n",
    "fileString_vvs_area_geom = \"C:/Users/david/OneDrive/02_Uni/02_Master/05_Masterarbeit/03_MATSim/01_prep/00_QGIS/vvs_area_geom.shp\""
   ]
  },
  {
   "cell_type": "code",
   "execution_count": 3,
   "metadata": {},
   "outputs": [],
   "source": [
    "df_vz = pd.read_csv(fileString_vz)"
   ]
  },
  {
   "cell_type": "code",
   "execution_count": 4,
   "metadata": {},
   "outputs": [
    {
     "data": {
      "text/html": [
       "<div>\n",
       "<style scoped>\n",
       "    .dataframe tbody tr th:only-of-type {\n",
       "        vertical-align: middle;\n",
       "    }\n",
       "\n",
       "    .dataframe tbody tr th {\n",
       "        vertical-align: top;\n",
       "    }\n",
       "\n",
       "    .dataframe thead th {\n",
       "        text-align: right;\n",
       "    }\n",
       "</style>\n",
       "<table border=\"1\" class=\"dataframe\">\n",
       "  <thead>\n",
       "    <tr style=\"text-align: right;\">\n",
       "      <th></th>\n",
       "      <th>ort_1</th>\n",
       "      <th>ort_2</th>\n",
       "      <th>haltestelle</th>\n",
       "      <th>nr</th>\n",
       "      <th>tarifzone</th>\n",
       "    </tr>\n",
       "  </thead>\n",
       "  <tbody>\n",
       "    <tr>\n",
       "      <th>0</th>\n",
       "      <td>Affalterbach</td>\n",
       "      <td>NaN</td>\n",
       "      <td>Birkhau</td>\n",
       "      <td>3600</td>\n",
       "      <td>3</td>\n",
       "    </tr>\n",
       "    <tr>\n",
       "      <th>1</th>\n",
       "      <td>Affalterbach</td>\n",
       "      <td>NaN</td>\n",
       "      <td>Klingenstraße</td>\n",
       "      <td>3601</td>\n",
       "      <td>3</td>\n",
       "    </tr>\n",
       "    <tr>\n",
       "      <th>2</th>\n",
       "      <td>Affalterbach</td>\n",
       "      <td>NaN</td>\n",
       "      <td>Marbacher Straße</td>\n",
       "      <td>3599</td>\n",
       "      <td>3</td>\n",
       "    </tr>\n",
       "  </tbody>\n",
       "</table>\n",
       "</div>"
      ],
      "text/plain": [
       "          ort_1 ort_2       haltestelle    nr tarifzone\n",
       "0  Affalterbach   NaN           Birkhau  3600         3\n",
       "1  Affalterbach   NaN     Klingenstraße  3601         3\n",
       "2  Affalterbach   NaN  Marbacher Straße  3599         3"
      ]
     },
     "execution_count": 4,
     "metadata": {},
     "output_type": "execute_result"
    }
   ],
   "source": [
    "df_vz.head(3)"
   ]
  },
  {
   "cell_type": "code",
   "execution_count": 5,
   "metadata": {},
   "outputs": [
    {
     "data": {
      "text/html": [
       "<div>\n",
       "<style scoped>\n",
       "    .dataframe tbody tr th:only-of-type {\n",
       "        vertical-align: middle;\n",
       "    }\n",
       "\n",
       "    .dataframe tbody tr th {\n",
       "        vertical-align: top;\n",
       "    }\n",
       "\n",
       "    .dataframe thead th {\n",
       "        text-align: right;\n",
       "    }\n",
       "</style>\n",
       "<table border=\"1\" class=\"dataframe\">\n",
       "  <thead>\n",
       "    <tr style=\"text-align: right;\">\n",
       "      <th></th>\n",
       "      <th>ort_1</th>\n",
       "      <th>ort_2</th>\n",
       "      <th>haltestelle</th>\n",
       "      <th>nr</th>\n",
       "      <th>tarifzone</th>\n",
       "    </tr>\n",
       "  </thead>\n",
       "  <tbody>\n",
       "    <tr>\n",
       "      <th>3802</th>\n",
       "      <td>Wüstenrot</td>\n",
       "      <td>NaN</td>\n",
       "      <td>Stangenbach</td>\n",
       "      <td>32449</td>\n",
       "      <td>6</td>\n",
       "    </tr>\n",
       "    <tr>\n",
       "      <th>3803</th>\n",
       "      <td>Wüstenrot</td>\n",
       "      <td>NaN</td>\n",
       "      <td>Stangenbach Haus Waldesruh</td>\n",
       "      <td>32453</td>\n",
       "      <td>6</td>\n",
       "    </tr>\n",
       "    <tr>\n",
       "      <th>3804</th>\n",
       "      <td>Wüstenrot</td>\n",
       "      <td>NaN</td>\n",
       "      <td>Vorderbüchelberg Abzweig</td>\n",
       "      <td>32320</td>\n",
       "      <td>6</td>\n",
       "    </tr>\n",
       "  </tbody>\n",
       "</table>\n",
       "</div>"
      ],
      "text/plain": [
       "          ort_1 ort_2                 haltestelle     nr tarifzone\n",
       "3802  Wüstenrot   NaN                 Stangenbach  32449         6\n",
       "3803  Wüstenrot   NaN  Stangenbach Haus Waldesruh  32453         6\n",
       "3804  Wüstenrot   NaN    Vorderbüchelberg Abzweig  32320         6"
      ]
     },
     "execution_count": 5,
     "metadata": {},
     "output_type": "execute_result"
    }
   ],
   "source": [
    "df_vz.tail(3)"
   ]
  },
  {
   "cell_type": "code",
   "execution_count": 6,
   "metadata": {},
   "outputs": [],
   "source": [
    "df_gtfs = pd.read_csv(fileString_gtfs)"
   ]
  },
  {
   "cell_type": "code",
   "execution_count": 7,
   "metadata": {},
   "outputs": [],
   "source": [
    "gdf_gtfs = gpd.GeoDataFrame(df_gtfs,\n",
    "                            geometry = gpd.points_from_xy(df_gtfs.stop_lon, df_gtfs.stop_lat),\n",
    "                           )\n",
    "gdf_gtfs = gdf_gtfs.set_crs(epsg=4326)"
   ]
  },
  {
   "cell_type": "code",
   "execution_count": 8,
   "metadata": {},
   "outputs": [
    {
     "data": {
      "text/html": [
       "<div>\n",
       "<style scoped>\n",
       "    .dataframe tbody tr th:only-of-type {\n",
       "        vertical-align: middle;\n",
       "    }\n",
       "\n",
       "    .dataframe tbody tr th {\n",
       "        vertical-align: top;\n",
       "    }\n",
       "\n",
       "    .dataframe thead th {\n",
       "        text-align: right;\n",
       "    }\n",
       "</style>\n",
       "<table border=\"1\" class=\"dataframe\">\n",
       "  <thead>\n",
       "    <tr style=\"text-align: right;\">\n",
       "      <th></th>\n",
       "      <th>stop_id</th>\n",
       "      <th>stop_name</th>\n",
       "      <th>stop_lat</th>\n",
       "      <th>stop_lon</th>\n",
       "      <th>geometry</th>\n",
       "    </tr>\n",
       "  </thead>\n",
       "  <tbody>\n",
       "    <tr>\n",
       "      <th>0</th>\n",
       "      <td>de:08111:100:1:1</td>\n",
       "      <td>Stammheim</td>\n",
       "      <td>48.850046</td>\n",
       "      <td>9.156174</td>\n",
       "      <td>POINT (9.15617 48.85005)</td>\n",
       "    </tr>\n",
       "    <tr>\n",
       "      <th>1</th>\n",
       "      <td>de:08111:100:2:3</td>\n",
       "      <td>Stammheim</td>\n",
       "      <td>48.849443</td>\n",
       "      <td>9.156022</td>\n",
       "      <td>POINT (9.15602 48.84944)</td>\n",
       "    </tr>\n",
       "    <tr>\n",
       "      <th>2</th>\n",
       "      <td>de:08111:100:2:4</td>\n",
       "      <td>Stammheim</td>\n",
       "      <td>48.850217</td>\n",
       "      <td>9.156093</td>\n",
       "      <td>POINT (9.15609 48.85022)</td>\n",
       "    </tr>\n",
       "  </tbody>\n",
       "</table>\n",
       "</div>"
      ],
      "text/plain": [
       "            stop_id  stop_name   stop_lat  stop_lon                  geometry\n",
       "0  de:08111:100:1:1  Stammheim  48.850046  9.156174  POINT (9.15617 48.85005)\n",
       "1  de:08111:100:2:3  Stammheim  48.849443  9.156022  POINT (9.15602 48.84944)\n",
       "2  de:08111:100:2:4  Stammheim  48.850217  9.156093  POINT (9.15609 48.85022)"
      ]
     },
     "execution_count": 8,
     "metadata": {},
     "output_type": "execute_result"
    }
   ],
   "source": [
    "gdf_gtfs.head(3)"
   ]
  },
  {
   "cell_type": "code",
   "execution_count": 9,
   "metadata": {},
   "outputs": [
    {
     "data": {
      "text/html": [
       "<div>\n",
       "<style scoped>\n",
       "    .dataframe tbody tr th:only-of-type {\n",
       "        vertical-align: middle;\n",
       "    }\n",
       "\n",
       "    .dataframe tbody tr th {\n",
       "        vertical-align: top;\n",
       "    }\n",
       "\n",
       "    .dataframe thead th {\n",
       "        text-align: right;\n",
       "    }\n",
       "</style>\n",
       "<table border=\"1\" class=\"dataframe\">\n",
       "  <thead>\n",
       "    <tr style=\"text-align: right;\">\n",
       "      <th></th>\n",
       "      <th>stop_id</th>\n",
       "      <th>stop_name</th>\n",
       "      <th>stop_lat</th>\n",
       "      <th>stop_lon</th>\n",
       "      <th>geometry</th>\n",
       "    </tr>\n",
       "  </thead>\n",
       "  <tbody>\n",
       "    <tr>\n",
       "      <th>8501</th>\n",
       "      <td>gen:8425:34005:2:3</td>\n",
       "      <td>Beimerstetten</td>\n",
       "      <td>48.481900</td>\n",
       "      <td>9.977156</td>\n",
       "      <td>POINT (9.97716 48.48190)</td>\n",
       "    </tr>\n",
       "    <tr>\n",
       "      <th>8502</th>\n",
       "      <td>gen:8425:34186:0:3</td>\n",
       "      <td>Lonsee Hauptstr.</td>\n",
       "      <td>48.543721</td>\n",
       "      <td>9.917794</td>\n",
       "      <td>POINT (9.91779 48.54372)</td>\n",
       "    </tr>\n",
       "    <tr>\n",
       "      <th>8503</th>\n",
       "      <td>gen:8425:34187:0:3</td>\n",
       "      <td>Urspring Abzw. Lonsee</td>\n",
       "      <td>48.546823</td>\n",
       "      <td>9.893904</td>\n",
       "      <td>POINT (9.89390 48.54682)</td>\n",
       "    </tr>\n",
       "  </tbody>\n",
       "</table>\n",
       "</div>"
      ],
      "text/plain": [
       "                 stop_id              stop_name   stop_lat  stop_lon  \\\n",
       "8501  gen:8425:34005:2:3          Beimerstetten  48.481900  9.977156   \n",
       "8502  gen:8425:34186:0:3       Lonsee Hauptstr.  48.543721  9.917794   \n",
       "8503  gen:8425:34187:0:3  Urspring Abzw. Lonsee  48.546823  9.893904   \n",
       "\n",
       "                      geometry  \n",
       "8501  POINT (9.97716 48.48190)  \n",
       "8502  POINT (9.91779 48.54372)  \n",
       "8503  POINT (9.89390 48.54682)  "
      ]
     },
     "execution_count": 9,
     "metadata": {},
     "output_type": "execute_result"
    }
   ],
   "source": [
    "gdf_gtfs.tail(3)"
   ]
  },
  {
   "cell_type": "code",
   "execution_count": 10,
   "metadata": {},
   "outputs": [],
   "source": [
    "gdf_vvs_area = gpd.read_file(fileString_vvs_area_geom)"
   ]
  },
  {
   "cell_type": "code",
   "execution_count": 11,
   "metadata": {},
   "outputs": [
    {
     "data": {
      "text/html": [
       "<div>\n",
       "<style scoped>\n",
       "    .dataframe tbody tr th:only-of-type {\n",
       "        vertical-align: middle;\n",
       "    }\n",
       "\n",
       "    .dataframe tbody tr th {\n",
       "        vertical-align: top;\n",
       "    }\n",
       "\n",
       "    .dataframe thead th {\n",
       "        text-align: right;\n",
       "    }\n",
       "</style>\n",
       "<table border=\"1\" class=\"dataframe\">\n",
       "  <thead>\n",
       "    <tr style=\"text-align: right;\">\n",
       "      <th></th>\n",
       "      <th>ags</th>\n",
       "      <th>gen</th>\n",
       "      <th>bez</th>\n",
       "      <th>geometry</th>\n",
       "    </tr>\n",
       "  </thead>\n",
       "  <tbody>\n",
       "    <tr>\n",
       "      <th>0</th>\n",
       "      <td>08416036</td>\n",
       "      <td>Rottenburg am Neckar</td>\n",
       "      <td>Stadt</td>\n",
       "      <td>POLYGON ((8.83443 48.48249, 8.80690 48.47901, ...</td>\n",
       "    </tr>\n",
       "    <tr>\n",
       "      <th>1</th>\n",
       "      <td>08111000</td>\n",
       "      <td>Stuttgart</td>\n",
       "      <td>Stadt</td>\n",
       "      <td>POLYGON ((9.22518 48.86601, 9.22500 48.86485, ...</td>\n",
       "    </tr>\n",
       "    <tr>\n",
       "      <th>2</th>\n",
       "      <td>08115003</td>\n",
       "      <td>Böblingen</td>\n",
       "      <td>Stadt</td>\n",
       "      <td>POLYGON ((9.05337 48.70321, 9.05941 48.70140, ...</td>\n",
       "    </tr>\n",
       "  </tbody>\n",
       "</table>\n",
       "</div>"
      ],
      "text/plain": [
       "        ags                   gen    bez  \\\n",
       "0  08416036  Rottenburg am Neckar  Stadt   \n",
       "1  08111000             Stuttgart  Stadt   \n",
       "2  08115003             Böblingen  Stadt   \n",
       "\n",
       "                                            geometry  \n",
       "0  POLYGON ((8.83443 48.48249, 8.80690 48.47901, ...  \n",
       "1  POLYGON ((9.22518 48.86601, 9.22500 48.86485, ...  \n",
       "2  POLYGON ((9.05337 48.70321, 9.05941 48.70140, ...  "
      ]
     },
     "execution_count": 11,
     "metadata": {},
     "output_type": "execute_result"
    }
   ],
   "source": [
    "gdf_vvs_area.head(3)"
   ]
  },
  {
   "cell_type": "markdown",
   "metadata": {},
   "source": [
    "## Step 2: Filter gtfs data"
   ]
  },
  {
   "cell_type": "code",
   "execution_count": 12,
   "metadata": {},
   "outputs": [
    {
     "data": {
      "text/plain": [
       "8504"
      ]
     },
     "execution_count": 12,
     "metadata": {},
     "output_type": "execute_result"
    }
   ],
   "source": [
    "gdf_gtfs.shape[0]"
   ]
  },
  {
   "cell_type": "code",
   "execution_count": 13,
   "metadata": {},
   "outputs": [],
   "source": [
    "gdf = gpd.sjoin(gdf_gtfs, gdf_vvs_area, how=\"left\", op='intersects')"
   ]
  },
  {
   "cell_type": "code",
   "execution_count": 14,
   "metadata": {},
   "outputs": [],
   "source": [
    "gdf.dropna(subset=['ags'], inplace=True)"
   ]
  },
  {
   "cell_type": "code",
   "execution_count": 15,
   "metadata": {},
   "outputs": [],
   "source": [
    "gdf['stop_id'] = gdf['stop_id'].apply(lambda x: x.replace('gen:8', 'de:08'))"
   ]
  },
  {
   "cell_type": "code",
   "execution_count": 16,
   "metadata": {},
   "outputs": [
    {
     "data": {
      "text/plain": [
       "7673"
      ]
     },
     "execution_count": 16,
     "metadata": {},
     "output_type": "execute_result"
    }
   ],
   "source": [
    "gdf.shape[0]"
   ]
  },
  {
   "cell_type": "code",
   "execution_count": 17,
   "metadata": {},
   "outputs": [],
   "source": [
    "gdf['ags_und_stop_name'] = gdf['ags'] + \" \" + gdf['stop_name']"
   ]
  },
  {
   "cell_type": "code",
   "execution_count": 18,
   "metadata": {},
   "outputs": [
    {
     "data": {
      "text/html": [
       "<div>\n",
       "<style scoped>\n",
       "    .dataframe tbody tr th:only-of-type {\n",
       "        vertical-align: middle;\n",
       "    }\n",
       "\n",
       "    .dataframe tbody tr th {\n",
       "        vertical-align: top;\n",
       "    }\n",
       "\n",
       "    .dataframe thead th {\n",
       "        text-align: right;\n",
       "    }\n",
       "</style>\n",
       "<table border=\"1\" class=\"dataframe\">\n",
       "  <thead>\n",
       "    <tr style=\"text-align: right;\">\n",
       "      <th></th>\n",
       "      <th>stop_id</th>\n",
       "      <th>stop_name</th>\n",
       "      <th>stop_lat</th>\n",
       "      <th>stop_lon</th>\n",
       "      <th>geometry</th>\n",
       "      <th>index_right</th>\n",
       "      <th>ags</th>\n",
       "      <th>gen</th>\n",
       "      <th>bez</th>\n",
       "      <th>ags_und_stop_name</th>\n",
       "    </tr>\n",
       "  </thead>\n",
       "  <tbody>\n",
       "    <tr>\n",
       "      <th>0</th>\n",
       "      <td>de:08111:100:1:1</td>\n",
       "      <td>Stammheim</td>\n",
       "      <td>48.850046</td>\n",
       "      <td>9.156174</td>\n",
       "      <td>POINT (9.15617 48.85005)</td>\n",
       "      <td>1.0</td>\n",
       "      <td>08111000</td>\n",
       "      <td>Stuttgart</td>\n",
       "      <td>Stadt</td>\n",
       "      <td>08111000 Stammheim</td>\n",
       "    </tr>\n",
       "    <tr>\n",
       "      <th>1</th>\n",
       "      <td>de:08111:100:2:3</td>\n",
       "      <td>Stammheim</td>\n",
       "      <td>48.849443</td>\n",
       "      <td>9.156022</td>\n",
       "      <td>POINT (9.15602 48.84944)</td>\n",
       "      <td>1.0</td>\n",
       "      <td>08111000</td>\n",
       "      <td>Stuttgart</td>\n",
       "      <td>Stadt</td>\n",
       "      <td>08111000 Stammheim</td>\n",
       "    </tr>\n",
       "    <tr>\n",
       "      <th>2</th>\n",
       "      <td>de:08111:100:2:4</td>\n",
       "      <td>Stammheim</td>\n",
       "      <td>48.850217</td>\n",
       "      <td>9.156093</td>\n",
       "      <td>POINT (9.15609 48.85022)</td>\n",
       "      <td>1.0</td>\n",
       "      <td>08111000</td>\n",
       "      <td>Stuttgart</td>\n",
       "      <td>Stadt</td>\n",
       "      <td>08111000 Stammheim</td>\n",
       "    </tr>\n",
       "  </tbody>\n",
       "</table>\n",
       "</div>"
      ],
      "text/plain": [
       "            stop_id  stop_name   stop_lat  stop_lon                  geometry  \\\n",
       "0  de:08111:100:1:1  Stammheim  48.850046  9.156174  POINT (9.15617 48.85005)   \n",
       "1  de:08111:100:2:3  Stammheim  48.849443  9.156022  POINT (9.15602 48.84944)   \n",
       "2  de:08111:100:2:4  Stammheim  48.850217  9.156093  POINT (9.15609 48.85022)   \n",
       "\n",
       "   index_right       ags        gen    bez   ags_und_stop_name  \n",
       "0          1.0  08111000  Stuttgart  Stadt  08111000 Stammheim  \n",
       "1          1.0  08111000  Stuttgart  Stadt  08111000 Stammheim  \n",
       "2          1.0  08111000  Stuttgart  Stadt  08111000 Stammheim  "
      ]
     },
     "execution_count": 18,
     "metadata": {},
     "output_type": "execute_result"
    }
   ],
   "source": [
    "gdf.head(3)"
   ]
  },
  {
   "cell_type": "markdown",
   "metadata": {},
   "source": [
    "## Step 3: Do some some replacements"
   ]
  },
  {
   "cell_type": "markdown",
   "metadata": {},
   "source": [
    "Manual replacements because Levenshtein Distance would bring missmatches..."
   ]
  },
  {
   "cell_type": "code",
   "execution_count": 19,
   "metadata": {},
   "outputs": [],
   "source": [
    "to_replace = {'Jux': 'Spiegelberg',\n",
    "              'Neuhausen (F)': 'Neuhausen auf den Fildern',\n",
    "              'Gingen (F)': 'Gingen an der Fils', \n",
    "              'Rottenburg (N)': 'Rottenburg am Neckar', \n",
    "              'Dettingen (T)': 'Dettingen unter Teck',\n",
    "              'Benningen (N)': 'Benningen am Neckar'\n",
    "             }"
   ]
  },
  {
   "cell_type": "code",
   "execution_count": 20,
   "metadata": {},
   "outputs": [],
   "source": [
    "df_vz.replace(to_replace, inplace=True)"
   ]
  },
  {
   "cell_type": "markdown",
   "metadata": {},
   "source": [
    "## Step 4: Match communities first"
   ]
  },
  {
   "cell_type": "code",
   "execution_count": 21,
   "metadata": {},
   "outputs": [],
   "source": [
    "def lookUp(lookUpValue, df, lookUpcolumn, valueColumn):\n",
    "    \n",
    "    lst = df[df[lookUpcolumn] == lookUpValue][valueColumn].tolist()\n",
    "    if len(lst)>0:\n",
    "        return lst[0]\n",
    "    else:\n",
    "        return np.nan"
   ]
  },
  {
   "cell_type": "code",
   "execution_count": 22,
   "metadata": {},
   "outputs": [],
   "source": [
    "def getLevenshteinDistance(string, key):\n",
    "    \n",
    "    return fuzz.ratio(string, key)\n",
    "    \n",
    "\n",
    "def findBestMatching(string, keys):\n",
    "    \n",
    "    distances = dict((key, getLevenshteinDistance(string, key)) for key in keys)\n",
    "    distances = sorted((v,k) for k,v in distances.items())\n",
    "    return distances[-1][1], distances[-1][0]"
   ]
  },
  {
   "cell_type": "code",
   "execution_count": 23,
   "metadata": {},
   "outputs": [
    {
     "data": {
      "text/html": [
       "<div>\n",
       "<style scoped>\n",
       "    .dataframe tbody tr th:only-of-type {\n",
       "        vertical-align: middle;\n",
       "    }\n",
       "\n",
       "    .dataframe tbody tr th {\n",
       "        vertical-align: top;\n",
       "    }\n",
       "\n",
       "    .dataframe thead th {\n",
       "        text-align: right;\n",
       "    }\n",
       "</style>\n",
       "<table border=\"1\" class=\"dataframe\">\n",
       "  <thead>\n",
       "    <tr style=\"text-align: right;\">\n",
       "      <th></th>\n",
       "      <th>ort_1</th>\n",
       "      <th>ort_2</th>\n",
       "      <th>haltestelle</th>\n",
       "      <th>nr</th>\n",
       "      <th>tarifzone</th>\n",
       "      <th>gen_match</th>\n",
       "      <th>gen_sim</th>\n",
       "      <th>ags_match</th>\n",
       "    </tr>\n",
       "  </thead>\n",
       "  <tbody>\n",
       "    <tr>\n",
       "      <th>0</th>\n",
       "      <td>Affalterbach</td>\n",
       "      <td>NaN</td>\n",
       "      <td>Birkhau</td>\n",
       "      <td>3600</td>\n",
       "      <td>3</td>\n",
       "      <td>Affalterbach</td>\n",
       "      <td>100</td>\n",
       "      <td>08118001</td>\n",
       "    </tr>\n",
       "    <tr>\n",
       "      <th>1</th>\n",
       "      <td>Affalterbach</td>\n",
       "      <td>NaN</td>\n",
       "      <td>Klingenstraße</td>\n",
       "      <td>3601</td>\n",
       "      <td>3</td>\n",
       "      <td>Affalterbach</td>\n",
       "      <td>100</td>\n",
       "      <td>08118001</td>\n",
       "    </tr>\n",
       "    <tr>\n",
       "      <th>2</th>\n",
       "      <td>Affalterbach</td>\n",
       "      <td>NaN</td>\n",
       "      <td>Marbacher Straße</td>\n",
       "      <td>3599</td>\n",
       "      <td>3</td>\n",
       "      <td>Affalterbach</td>\n",
       "      <td>100</td>\n",
       "      <td>08118001</td>\n",
       "    </tr>\n",
       "  </tbody>\n",
       "</table>\n",
       "</div>"
      ],
      "text/plain": [
       "          ort_1 ort_2       haltestelle    nr tarifzone     gen_match  \\\n",
       "0  Affalterbach   NaN           Birkhau  3600         3  Affalterbach   \n",
       "1  Affalterbach   NaN     Klingenstraße  3601         3  Affalterbach   \n",
       "2  Affalterbach   NaN  Marbacher Straße  3599         3  Affalterbach   \n",
       "\n",
       "   gen_sim ags_match  \n",
       "0      100  08118001  \n",
       "1      100  08118001  \n",
       "2      100  08118001  "
      ]
     },
     "execution_count": 23,
     "metadata": {},
     "output_type": "execute_result"
    }
   ],
   "source": [
    "df_vz['gen_match'], df_vz['gen_sim'] = zip(*df_vz.apply(lambda x: findBestMatching(x['ort_1'], gdf_vvs_area['gen'].values), axis=1))\n",
    "df_vz['ags_match'] = df_vz['gen_match'].apply(lambda x: lookUp(x, gdf_vvs_area, \"gen\", \"ags\"))\n",
    "df_vz.head(3)"
   ]
  },
  {
   "cell_type": "code",
   "execution_count": 24,
   "metadata": {},
   "outputs": [
    {
     "data": {
      "text/html": [
       "<div>\n",
       "<style scoped>\n",
       "    .dataframe tbody tr th:only-of-type {\n",
       "        vertical-align: middle;\n",
       "    }\n",
       "\n",
       "    .dataframe tbody tr th {\n",
       "        vertical-align: top;\n",
       "    }\n",
       "\n",
       "    .dataframe thead th {\n",
       "        text-align: right;\n",
       "    }\n",
       "</style>\n",
       "<table border=\"1\" class=\"dataframe\">\n",
       "  <thead>\n",
       "    <tr style=\"text-align: right;\">\n",
       "      <th></th>\n",
       "      <th>ort_1</th>\n",
       "      <th>ort_2</th>\n",
       "      <th>haltestelle</th>\n",
       "      <th>nr</th>\n",
       "      <th>tarifzone</th>\n",
       "      <th>gen_match</th>\n",
       "      <th>gen_sim</th>\n",
       "      <th>ags_match</th>\n",
       "    </tr>\n",
       "  </thead>\n",
       "  <tbody>\n",
       "  </tbody>\n",
       "</table>\n",
       "</div>"
      ],
      "text/plain": [
       "Empty DataFrame\n",
       "Columns: [ort_1, ort_2, haltestelle, nr, tarifzone, gen_match, gen_sim, ags_match]\n",
       "Index: []"
      ]
     },
     "execution_count": 24,
     "metadata": {},
     "output_type": "execute_result"
    }
   ],
   "source": [
    "df_vz[df_vz['ags_match'].isna()]"
   ]
  },
  {
   "cell_type": "code",
   "execution_count": 25,
   "metadata": {},
   "outputs": [],
   "source": [
    "def concatColumns(x):\n",
    "    \n",
    "    if (pd.isna(x.ort_2)):   \n",
    "        return str(x.ags_match) + \" \" + str(x.haltestelle)\n",
    "    else:\n",
    "        return str(x.ags_match) + \" \" + str(x.ort_2) + \" \" + str(x.haltestelle)"
   ]
  },
  {
   "cell_type": "code",
   "execution_count": 26,
   "metadata": {},
   "outputs": [],
   "source": [
    "df_vz['ags_ort_und_haltestelle'] = df_vz.apply(lambda x: concatColumns(x), axis=1)"
   ]
  },
  {
   "cell_type": "code",
   "execution_count": 27,
   "metadata": {},
   "outputs": [
    {
     "data": {
      "text/html": [
       "<div>\n",
       "<style scoped>\n",
       "    .dataframe tbody tr th:only-of-type {\n",
       "        vertical-align: middle;\n",
       "    }\n",
       "\n",
       "    .dataframe tbody tr th {\n",
       "        vertical-align: top;\n",
       "    }\n",
       "\n",
       "    .dataframe thead th {\n",
       "        text-align: right;\n",
       "    }\n",
       "</style>\n",
       "<table border=\"1\" class=\"dataframe\">\n",
       "  <thead>\n",
       "    <tr style=\"text-align: right;\">\n",
       "      <th></th>\n",
       "      <th>ort_1</th>\n",
       "      <th>ort_2</th>\n",
       "      <th>haltestelle</th>\n",
       "      <th>nr</th>\n",
       "      <th>tarifzone</th>\n",
       "      <th>gen_match</th>\n",
       "      <th>gen_sim</th>\n",
       "      <th>ags_match</th>\n",
       "      <th>ags_ort_und_haltestelle</th>\n",
       "    </tr>\n",
       "  </thead>\n",
       "  <tbody>\n",
       "    <tr>\n",
       "      <th>0</th>\n",
       "      <td>Affalterbach</td>\n",
       "      <td>NaN</td>\n",
       "      <td>Birkhau</td>\n",
       "      <td>3600</td>\n",
       "      <td>3</td>\n",
       "      <td>Affalterbach</td>\n",
       "      <td>100</td>\n",
       "      <td>08118001</td>\n",
       "      <td>08118001 Birkhau</td>\n",
       "    </tr>\n",
       "    <tr>\n",
       "      <th>1</th>\n",
       "      <td>Affalterbach</td>\n",
       "      <td>NaN</td>\n",
       "      <td>Klingenstraße</td>\n",
       "      <td>3601</td>\n",
       "      <td>3</td>\n",
       "      <td>Affalterbach</td>\n",
       "      <td>100</td>\n",
       "      <td>08118001</td>\n",
       "      <td>08118001 Klingenstraße</td>\n",
       "    </tr>\n",
       "    <tr>\n",
       "      <th>2</th>\n",
       "      <td>Affalterbach</td>\n",
       "      <td>NaN</td>\n",
       "      <td>Marbacher Straße</td>\n",
       "      <td>3599</td>\n",
       "      <td>3</td>\n",
       "      <td>Affalterbach</td>\n",
       "      <td>100</td>\n",
       "      <td>08118001</td>\n",
       "      <td>08118001 Marbacher Straße</td>\n",
       "    </tr>\n",
       "  </tbody>\n",
       "</table>\n",
       "</div>"
      ],
      "text/plain": [
       "          ort_1 ort_2       haltestelle    nr tarifzone     gen_match  \\\n",
       "0  Affalterbach   NaN           Birkhau  3600         3  Affalterbach   \n",
       "1  Affalterbach   NaN     Klingenstraße  3601         3  Affalterbach   \n",
       "2  Affalterbach   NaN  Marbacher Straße  3599         3  Affalterbach   \n",
       "\n",
       "   gen_sim ags_match    ags_ort_und_haltestelle  \n",
       "0      100  08118001           08118001 Birkhau  \n",
       "1      100  08118001     08118001 Klingenstraße  \n",
       "2      100  08118001  08118001 Marbacher Straße  "
      ]
     },
     "execution_count": 27,
     "metadata": {},
     "output_type": "execute_result"
    }
   ],
   "source": [
    "df_vz.head(3)"
   ]
  },
  {
   "cell_type": "markdown",
   "metadata": {},
   "source": [
    "## Step 4: Match full stop names afterwards"
   ]
  },
  {
   "cell_type": "code",
   "execution_count": 28,
   "metadata": {},
   "outputs": [
    {
     "data": {
      "text/html": [
       "<div>\n",
       "<style scoped>\n",
       "    .dataframe tbody tr th:only-of-type {\n",
       "        vertical-align: middle;\n",
       "    }\n",
       "\n",
       "    .dataframe tbody tr th {\n",
       "        vertical-align: top;\n",
       "    }\n",
       "\n",
       "    .dataframe thead th {\n",
       "        text-align: right;\n",
       "    }\n",
       "</style>\n",
       "<table border=\"1\" class=\"dataframe\">\n",
       "  <thead>\n",
       "    <tr style=\"text-align: right;\">\n",
       "      <th></th>\n",
       "      <th>ort_1</th>\n",
       "      <th>ort_2</th>\n",
       "      <th>haltestelle</th>\n",
       "      <th>nr</th>\n",
       "      <th>tarifzone</th>\n",
       "      <th>gen_match</th>\n",
       "      <th>gen_sim</th>\n",
       "      <th>ags_match</th>\n",
       "      <th>ags_ort_und_haltestelle</th>\n",
       "    </tr>\n",
       "  </thead>\n",
       "  <tbody>\n",
       "    <tr>\n",
       "      <th>0</th>\n",
       "      <td>Affalterbach</td>\n",
       "      <td>NaN</td>\n",
       "      <td>Birkhau</td>\n",
       "      <td>3600</td>\n",
       "      <td>3</td>\n",
       "      <td>Affalterbach</td>\n",
       "      <td>100</td>\n",
       "      <td>08118001</td>\n",
       "      <td>08118001 Birkhau</td>\n",
       "    </tr>\n",
       "    <tr>\n",
       "      <th>1</th>\n",
       "      <td>Affalterbach</td>\n",
       "      <td>NaN</td>\n",
       "      <td>Klingenstraße</td>\n",
       "      <td>3601</td>\n",
       "      <td>3</td>\n",
       "      <td>Affalterbach</td>\n",
       "      <td>100</td>\n",
       "      <td>08118001</td>\n",
       "      <td>08118001 Klingenstraße</td>\n",
       "    </tr>\n",
       "    <tr>\n",
       "      <th>2</th>\n",
       "      <td>Affalterbach</td>\n",
       "      <td>NaN</td>\n",
       "      <td>Marbacher Straße</td>\n",
       "      <td>3599</td>\n",
       "      <td>3</td>\n",
       "      <td>Affalterbach</td>\n",
       "      <td>100</td>\n",
       "      <td>08118001</td>\n",
       "      <td>08118001 Marbacher Straße</td>\n",
       "    </tr>\n",
       "  </tbody>\n",
       "</table>\n",
       "</div>"
      ],
      "text/plain": [
       "          ort_1 ort_2       haltestelle    nr tarifzone     gen_match  \\\n",
       "0  Affalterbach   NaN           Birkhau  3600         3  Affalterbach   \n",
       "1  Affalterbach   NaN     Klingenstraße  3601         3  Affalterbach   \n",
       "2  Affalterbach   NaN  Marbacher Straße  3599         3  Affalterbach   \n",
       "\n",
       "   gen_sim ags_match    ags_ort_und_haltestelle  \n",
       "0      100  08118001           08118001 Birkhau  \n",
       "1      100  08118001     08118001 Klingenstraße  \n",
       "2      100  08118001  08118001 Marbacher Straße  "
      ]
     },
     "execution_count": 28,
     "metadata": {},
     "output_type": "execute_result"
    }
   ],
   "source": [
    "df_vz.head(3)"
   ]
  },
  {
   "cell_type": "code",
   "execution_count": 29,
   "metadata": {},
   "outputs": [],
   "source": [
    "gdf['best_match'], gdf['similiarity'] = zip(*gdf.apply(lambda x: findBestMatching(x['ags_und_stop_name'], df_vz['ags_ort_und_haltestelle'].values), axis=1))"
   ]
  },
  {
   "cell_type": "code",
   "execution_count": 30,
   "metadata": {},
   "outputs": [],
   "source": [
    "gdf['zone'] = gdf['best_match'].apply(lambda x: lookUp(x, df_vz, \"ags_ort_und_haltestelle\", \"tarifzone\"))"
   ]
  },
  {
   "cell_type": "code",
   "execution_count": 31,
   "metadata": {},
   "outputs": [
    {
     "data": {
      "text/html": [
       "<div>\n",
       "<style scoped>\n",
       "    .dataframe tbody tr th:only-of-type {\n",
       "        vertical-align: middle;\n",
       "    }\n",
       "\n",
       "    .dataframe tbody tr th {\n",
       "        vertical-align: top;\n",
       "    }\n",
       "\n",
       "    .dataframe thead th {\n",
       "        text-align: right;\n",
       "    }\n",
       "</style>\n",
       "<table border=\"1\" class=\"dataframe\">\n",
       "  <thead>\n",
       "    <tr style=\"text-align: right;\">\n",
       "      <th></th>\n",
       "      <th>stop_id</th>\n",
       "      <th>stop_name</th>\n",
       "      <th>stop_lat</th>\n",
       "      <th>stop_lon</th>\n",
       "      <th>geometry</th>\n",
       "      <th>index_right</th>\n",
       "      <th>ags</th>\n",
       "      <th>gen</th>\n",
       "      <th>bez</th>\n",
       "      <th>ags_und_stop_name</th>\n",
       "      <th>best_match</th>\n",
       "      <th>similiarity</th>\n",
       "      <th>zone</th>\n",
       "    </tr>\n",
       "  </thead>\n",
       "  <tbody>\n",
       "    <tr>\n",
       "      <th>0</th>\n",
       "      <td>de:08111:100:1:1</td>\n",
       "      <td>Stammheim</td>\n",
       "      <td>48.850046</td>\n",
       "      <td>9.156174</td>\n",
       "      <td>POINT (9.15617 48.85005)</td>\n",
       "      <td>1.0</td>\n",
       "      <td>08111000</td>\n",
       "      <td>Stuttgart</td>\n",
       "      <td>Stadt</td>\n",
       "      <td>08111000 Stammheim</td>\n",
       "      <td>08111000 Stammheim</td>\n",
       "      <td>100</td>\n",
       "      <td>1/2</td>\n",
       "    </tr>\n",
       "    <tr>\n",
       "      <th>1</th>\n",
       "      <td>de:08111:100:2:3</td>\n",
       "      <td>Stammheim</td>\n",
       "      <td>48.849443</td>\n",
       "      <td>9.156022</td>\n",
       "      <td>POINT (9.15602 48.84944)</td>\n",
       "      <td>1.0</td>\n",
       "      <td>08111000</td>\n",
       "      <td>Stuttgart</td>\n",
       "      <td>Stadt</td>\n",
       "      <td>08111000 Stammheim</td>\n",
       "      <td>08111000 Stammheim</td>\n",
       "      <td>100</td>\n",
       "      <td>1/2</td>\n",
       "    </tr>\n",
       "    <tr>\n",
       "      <th>2</th>\n",
       "      <td>de:08111:100:2:4</td>\n",
       "      <td>Stammheim</td>\n",
       "      <td>48.850217</td>\n",
       "      <td>9.156093</td>\n",
       "      <td>POINT (9.15609 48.85022)</td>\n",
       "      <td>1.0</td>\n",
       "      <td>08111000</td>\n",
       "      <td>Stuttgart</td>\n",
       "      <td>Stadt</td>\n",
       "      <td>08111000 Stammheim</td>\n",
       "      <td>08111000 Stammheim</td>\n",
       "      <td>100</td>\n",
       "      <td>1/2</td>\n",
       "    </tr>\n",
       "  </tbody>\n",
       "</table>\n",
       "</div>"
      ],
      "text/plain": [
       "            stop_id  stop_name   stop_lat  stop_lon                  geometry  \\\n",
       "0  de:08111:100:1:1  Stammheim  48.850046  9.156174  POINT (9.15617 48.85005)   \n",
       "1  de:08111:100:2:3  Stammheim  48.849443  9.156022  POINT (9.15602 48.84944)   \n",
       "2  de:08111:100:2:4  Stammheim  48.850217  9.156093  POINT (9.15609 48.85022)   \n",
       "\n",
       "   index_right       ags        gen    bez   ags_und_stop_name  \\\n",
       "0          1.0  08111000  Stuttgart  Stadt  08111000 Stammheim   \n",
       "1          1.0  08111000  Stuttgart  Stadt  08111000 Stammheim   \n",
       "2          1.0  08111000  Stuttgart  Stadt  08111000 Stammheim   \n",
       "\n",
       "           best_match  similiarity zone  \n",
       "0  08111000 Stammheim          100  1/2  \n",
       "1  08111000 Stammheim          100  1/2  \n",
       "2  08111000 Stammheim          100  1/2  "
      ]
     },
     "execution_count": 31,
     "metadata": {},
     "output_type": "execute_result"
    }
   ],
   "source": [
    "gdf.head(3)"
   ]
  },
  {
   "cell_type": "markdown",
   "metadata": {},
   "source": [
    "## Step 5: Remove outliers depending on similiarity gap"
   ]
  },
  {
   "cell_type": "code",
   "execution_count": 32,
   "metadata": {},
   "outputs": [
    {
     "data": {
      "text/plain": [
       "7673"
      ]
     },
     "execution_count": 32,
     "metadata": {},
     "output_type": "execute_result"
    }
   ],
   "source": [
    "gdf.shape[0]"
   ]
  },
  {
   "cell_type": "code",
   "execution_count": 33,
   "metadata": {},
   "outputs": [],
   "source": [
    "gdf_opt = gdf[gdf['similiarity']>75]"
   ]
  },
  {
   "cell_type": "code",
   "execution_count": 34,
   "metadata": {},
   "outputs": [
    {
     "data": {
      "text/plain": [
       "6472"
      ]
     },
     "execution_count": 34,
     "metadata": {},
     "output_type": "execute_result"
    }
   ],
   "source": [
    "gdf_opt.shape[0]"
   ]
  },
  {
   "cell_type": "markdown",
   "metadata": {},
   "source": [
    "## Step 6: Remove outliers depending on distance to Stuttgart Hbf."
   ]
  },
  {
   "cell_type": "code",
   "execution_count": 35,
   "metadata": {},
   "outputs": [
    {
     "data": {
      "text/plain": [
       "(9.182316, 48.783332)"
      ]
     },
     "execution_count": 35,
     "metadata": {},
     "output_type": "execute_result"
    }
   ],
   "source": [
    "stg_hbf = (9.182316, 48.783332)\n",
    "stg_hbf"
   ]
  },
  {
   "cell_type": "code",
   "execution_count": 36,
   "metadata": {},
   "outputs": [
    {
     "name": "stderr",
     "output_type": "stream",
     "text": [
      "C:\\Users\\david\\.conda\\envs\\mynewenv\\lib\\site-packages\\geopandas\\geodataframe.py:831: SettingWithCopyWarning: \n",
      "A value is trying to be set on a copy of a slice from a DataFrame.\n",
      "Try using .loc[row_indexer,col_indexer] = value instead\n",
      "\n",
      "See the caveats in the documentation: https://pandas.pydata.org/pandas-docs/stable/user_guide/indexing.html#returning-a-view-versus-a-copy\n",
      "  super(GeoDataFrame, self).__setitem__(key, value)\n"
     ]
    }
   ],
   "source": [
    "gdf_opt['dist_stg_hbf'] = gdf_opt.apply(lambda x: distance(stg_hbf, (x['stop_lon'], x['stop_lat'])).km, axis=1)"
   ]
  },
  {
   "cell_type": "code",
   "execution_count": 40,
   "metadata": {},
   "outputs": [],
   "source": [
    "def find_outlier_gap(column):\n",
    "    \n",
    "    q1 = np.percentile(column, 25)\n",
    "    q3 = np.percentile(column, 75)\n",
    "    iqr = sum((column<q1) | (column>q3))\n",
    "    return q3 - iqr * 1.5, q3 + iqr * 1.5\n",
    "    \n",
    "    "
   ]
  },
  {
   "cell_type": "code",
   "execution_count": 43,
   "metadata": {},
   "outputs": [
    {
     "ename": "TypeError",
     "evalue": "_percentile_dispatcher() missing 1 required positional argument: 'q'",
     "output_type": "error",
     "traceback": [
      "\u001b[1;31m---------------------------------------------------------------------------\u001b[0m",
      "\u001b[1;31mTypeError\u001b[0m                                 Traceback (most recent call last)",
      "\u001b[1;32m<ipython-input-43-cf853519c419>\u001b[0m in \u001b[0;36m<module>\u001b[1;34m\u001b[0m\n\u001b[1;32m----> 1\u001b[1;33m \u001b[0mgdf_opt\u001b[0m\u001b[1;33m.\u001b[0m\u001b[0mgroupby\u001b[0m\u001b[1;33m(\u001b[0m\u001b[1;34m'zone'\u001b[0m\u001b[1;33m)\u001b[0m\u001b[1;33m.\u001b[0m\u001b[0magg\u001b[0m\u001b[1;33m(\u001b[0m\u001b[1;33m{\u001b[0m\u001b[1;34m'dist_stg_hbf'\u001b[0m\u001b[1;33m:\u001b[0m \u001b[0mnp\u001b[0m\u001b[1;33m.\u001b[0m\u001b[0mpercentile\u001b[0m\u001b[1;33m(\u001b[0m\u001b[1;36m25\u001b[0m\u001b[1;33m)\u001b[0m\u001b[1;33m,\u001b[0m \u001b[1;34m'dist_stg_hbf'\u001b[0m\u001b[1;33m:\u001b[0m \u001b[0mnp\u001b[0m\u001b[1;33m.\u001b[0m\u001b[0mpercentile\u001b[0m\u001b[1;33m(\u001b[0m\u001b[1;36m75\u001b[0m\u001b[1;33m)\u001b[0m\u001b[1;33m,\u001b[0m \u001b[1;34m'dist_stg_hbf'\u001b[0m\u001b[1;33m:\u001b[0m \u001b[0mfind_outlier_gap\u001b[0m\u001b[1;33m}\u001b[0m\u001b[1;33m)\u001b[0m\u001b[1;33m\u001b[0m\u001b[1;33m\u001b[0m\u001b[0m\n\u001b[0m",
      "\u001b[1;32m<__array_function__ internals>\u001b[0m in \u001b[0;36mpercentile\u001b[1;34m(*args, **kwargs)\u001b[0m\n",
      "\u001b[1;31mTypeError\u001b[0m: _percentile_dispatcher() missing 1 required positional argument: 'q'"
     ]
    }
   ],
   "source": [
    "gdf_opt.groupby('zone').agg({'dist_stg_hbf': find_outlier_gap})"
   ]
  },
  {
   "cell_type": "code",
   "execution_count": null,
   "metadata": {},
   "outputs": [],
   "source": []
  },
  {
   "cell_type": "code",
   "execution_count": null,
   "metadata": {},
   "outputs": [],
   "source": []
  },
  {
   "cell_type": "code",
   "execution_count": null,
   "metadata": {},
   "outputs": [],
   "source": [
    "gdf.to_csv(\"C:/Users/david/OneDrive/02_Uni/02_Master/05_Masterarbeit/03_MATSim/01_prep/00_QGIS/export.csv\")"
   ]
  }
 ],
 "metadata": {
  "kernelspec": {
   "display_name": "Python 3",
   "language": "python",
   "name": "python3"
  },
  "language_info": {
   "codemirror_mode": {
    "name": "ipython",
    "version": 3
   },
   "file_extension": ".py",
   "mimetype": "text/x-python",
   "name": "python",
   "nbconvert_exporter": "python",
   "pygments_lexer": "ipython3",
   "version": "3.7.7"
  }
 },
 "nbformat": 4,
 "nbformat_minor": 4
}
